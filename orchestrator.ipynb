{
 "cells": [
  {
   "cell_type": "code",
   "execution_count": 10,
   "metadata": {},
   "outputs": [],
   "source": [
    "from markov_chains import *"
   ]
  },
  {
   "cell_type": "code",
   "execution_count": 36,
   "metadata": {},
   "outputs": [],
   "source": [
    "%run markov_chains"
   ]
  },
  {
   "cell_type": "code",
   "execution_count": 39,
   "metadata": {},
   "outputs": [],
   "source": [
    "recruitment_means_list, recruitment_std_devs_list, recruitment_future_dfs_dict = calculate_markovs(\"./recruitment.csv\", 10)"
   ]
  },
  {
   "cell_type": "code",
   "execution_count": 47,
   "metadata": {},
   "outputs": [],
   "source": [
    "uncertainty_means_list, uncertainty_std_devs_list, uncertainty_future_dfs_dict = calculate_markovs(\"./uncertainty.csv\", 1)"
   ]
  },
  {
   "cell_type": "code",
   "execution_count": 13,
   "metadata": {},
   "outputs": [],
   "source": [
    "employment_growth_means_list, employment_growth_std_devs_list, employment_growth_future_dfs_dict = calculate_markovs(\"./employment_growth.csv\", 10)"
   ]
  },
  {
   "cell_type": "code",
   "execution_count": 48,
   "metadata": {},
   "outputs": [
    {
     "data": {
      "text/plain": [
       "[         up      down\n",
       " 0  0.318182  0.681818,\n",
       "          up      down\n",
       " 0  0.409091  0.590909,\n",
       "     up  down\n",
       " 0  0.5   0.5,\n",
       "          up      down\n",
       " 0  0.666667  0.333333,\n",
       "     up  down\n",
       " 0  0.4   0.6]"
      ]
     },
     "execution_count": 48,
     "metadata": {},
     "output_type": "execute_result"
    }
   ],
   "source": [
    "uncertainty_final_dfs_list: List[pd.DataFrame] = [dfs_list[-1] for dfs_list in uncertainty_future_dfs_dict.values()]\n",
    "uncertainty_final_dfs_list"
   ]
  }
 ],
 "metadata": {
  "kernelspec": {
   "display_name": "Python 3",
   "language": "python",
   "name": "python3"
  },
  "language_info": {
   "codemirror_mode": {
    "name": "ipython",
    "version": 3
   },
   "file_extension": ".py",
   "mimetype": "text/x-python",
   "name": "python",
   "nbconvert_exporter": "python",
   "pygments_lexer": "ipython3",
   "version": "3.10.13"
  }
 },
 "nbformat": 4,
 "nbformat_minor": 2
}
