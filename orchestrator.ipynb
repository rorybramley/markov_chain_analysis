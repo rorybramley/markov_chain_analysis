{
 "cells": [
  {
   "cell_type": "code",
   "execution_count": 2,
   "metadata": {},
   "outputs": [],
   "source": [
    "# Import functions\n",
    "from markov_chains import *\n",
    "from dmp_downloader import *\n",
    "from output_writer import *\n",
    "\n",
    "from datetime import datetime, timedelta, date\n",
    "from typing import List"
   ]
  },
  {
   "cell_type": "code",
   "execution_count": 3,
   "metadata": {},
   "outputs": [],
   "source": [
    "# Set parameters for iterations and starting month\n",
    "\n",
    "num_iterations: int = 10\n",
    "\n",
    "current_day: datetime = datetime.today()\n",
    "first_day_current_month: datetime = current_day.replace(day=1)\n",
    "prev_month_last_day: datetime = first_day_current_month - timedelta(days=1)\n",
    "\n",
    "prev_month_name: str = prev_month_last_day.strftime(\"%B\").lower()\n",
    "prev_month_num: int = prev_month_last_day.month\n",
    "prev_month_year: int = prev_month_last_day.year"
   ]
  },
  {
   "cell_type": "code",
   "execution_count": 4,
   "metadata": {},
   "outputs": [],
   "source": [
    "# Remaining parameters are set as a result\n",
    "\n",
    "# Initial month of time-series data\n",
    "ws_date_ranges_dict: dict[str, List[int]] = {\n",
    "    \"Current recruitment difficulty\": [2021, 10],\n",
    "    \"Overall uncertainty\": [2020, 2], \n",
    "    \"Employment growth\": [2017, 1]\n",
    "}\n",
    "\n",
    "# Worksheet names\n",
    "ws_names: list[str] = list(ws_date_ranges_dict.keys())\n",
    "\n",
    "# Number of columns we can expect for each time series\n",
    "column_lengths_dict: dict[str, int] = {key: months_diff(\n",
    "    date(prev_month_year, prev_month_num, 1),\n",
    "    date(value[0], value[1], 1)\n",
    ") for key, value in ws_date_ranges_dict.items()}"
   ]
  },
  {
   "cell_type": "code",
   "execution_count": 5,
   "metadata": {},
   "outputs": [],
   "source": [
    "# Extraction: download the raw data and process in memory to produce the necessary .csv files for downstream\n",
    "\n",
    "input_file_paths: list[str] = download_and_process_dmp_data(prev_month_name, prev_month_year, ws_names, column_lengths_dict)"
   ]
  },
  {
   "cell_type": "code",
   "execution_count": 6,
   "metadata": {},
   "outputs": [
    {
     "name": "stderr",
     "output_type": "stream",
     "text": [
      "/Users/rory/Repos/markov_chain_analysis/markov_chains.py:96: FutureWarning: ChainedAssignmentError: behaviour will change in pandas 3.0!\n",
      "You are setting values through chained assignment. Currently this works in certain cases, but when using Copy-on-Write (which will become the default behaviour in pandas 3.0) this will never work to update the original DataFrame or Series, because the intermediate object on which we are setting values will behave as a copy.\n",
      "A typical example is when you are setting values in a column of a DataFrame, like:\n",
      "\n",
      "df[\"col\"][row_indexer] = value\n",
      "\n",
      "Use `df.loc[row_indexer, \"col\"] = values` instead, to perform the assignment in a single step and ensure this keeps updating the original `df`.\n",
      "\n",
      "See the caveats in the documentation: https://pandas.pydata.org/pandas-docs/stable/user_guide/indexing.html#returning-a-view-versus-a-copy\n",
      "\n",
      "  transition_df[k][j] += 1  # Update k-th column and j-th row for i-th matrix\n",
      "/Users/rory/Repos/markov_chain_analysis/markov_chains.py:96: FutureWarning: ChainedAssignmentError: behaviour will change in pandas 3.0!\n",
      "You are setting values through chained assignment. Currently this works in certain cases, but when using Copy-on-Write (which will become the default behaviour in pandas 3.0) this will never work to update the original DataFrame or Series, because the intermediate object on which we are setting values will behave as a copy.\n",
      "A typical example is when you are setting values in a column of a DataFrame, like:\n",
      "\n",
      "df[\"col\"][row_indexer] = value\n",
      "\n",
      "Use `df.loc[row_indexer, \"col\"] = values` instead, to perform the assignment in a single step and ensure this keeps updating the original `df`.\n",
      "\n",
      "See the caveats in the documentation: https://pandas.pydata.org/pandas-docs/stable/user_guide/indexing.html#returning-a-view-versus-a-copy\n",
      "\n",
      "  transition_df[k][j] += 1  # Update k-th column and j-th row for i-th matrix\n",
      "/Users/rory/Repos/markov_chain_analysis/markov_chains.py:96: FutureWarning: ChainedAssignmentError: behaviour will change in pandas 3.0!\n",
      "You are setting values through chained assignment. Currently this works in certain cases, but when using Copy-on-Write (which will become the default behaviour in pandas 3.0) this will never work to update the original DataFrame or Series, because the intermediate object on which we are setting values will behave as a copy.\n",
      "A typical example is when you are setting values in a column of a DataFrame, like:\n",
      "\n",
      "df[\"col\"][row_indexer] = value\n",
      "\n",
      "Use `df.loc[row_indexer, \"col\"] = values` instead, to perform the assignment in a single step and ensure this keeps updating the original `df`.\n",
      "\n",
      "See the caveats in the documentation: https://pandas.pydata.org/pandas-docs/stable/user_guide/indexing.html#returning-a-view-versus-a-copy\n",
      "\n",
      "  transition_df[k][j] += 1  # Update k-th column and j-th row for i-th matrix\n"
     ]
    }
   ],
   "source": [
    "# Transformation: use list comprehension to calculate Markov iterations and store results\n",
    "\n",
    "results: List[tuple[List[float], List[float], dict[str, List[pd.DataFrame]]]] = [(\n",
    "    means_dict,\n",
    "    std_devs_dict,\n",
    "    future_dfs_dict\n",
    ") for means_dict, std_devs_dict, future_dfs_dict in \n",
    "    [calculate_markovs(input_file_path, num_iterations) for input_file_path in input_file_paths]]"
   ]
  },
  {
   "cell_type": "code",
   "execution_count": 7,
   "metadata": {},
   "outputs": [
    {
     "name": "stdout",
     "output_type": "stream",
     "text": [
      "File saved to markov_results_march_2024.xlsx succesfully!\n"
     ]
    },
    {
     "name": "stderr",
     "output_type": "stream",
     "text": [
      "/Users/rory/Repos/markov_chain_analysis/.venv/lib/python3.12/site-packages/openpyxl/workbook/child.py:99: UserWarning: Title is more than 31 characters. Some applications may not be able to read the file\n",
      "  warnings.warn(\"Title is more than 31 characters. Some applications may not be able to read the file\")\n"
     ]
    }
   ],
   "source": [
    "# Load: save output into a .xlsx file for convenient access\n",
    "\n",
    "write_results_to_xlsx(\n",
    "    input_file_paths, \n",
    "    results,\n",
    "    output_path=f\"markov_results_{prev_month_name}_{prev_month_year}.xlsx\"\n",
    ")"
   ]
  },
  {
   "cell_type": "code",
   "execution_count": 9,
   "metadata": {},
   "outputs": [
    {
     "name": "stderr",
     "output_type": "stream",
     "text": [
      "/Users/rory/Repos/markov_chain_analysis/markov_chains.py:96: FutureWarning: ChainedAssignmentError: behaviour will change in pandas 3.0!\n",
      "You are setting values through chained assignment. Currently this works in certain cases, but when using Copy-on-Write (which will become the default behaviour in pandas 3.0) this will never work to update the original DataFrame or Series, because the intermediate object on which we are setting values will behave as a copy.\n",
      "A typical example is when you are setting values in a column of a DataFrame, like:\n",
      "\n",
      "df[\"col\"][row_indexer] = value\n",
      "\n",
      "Use `df.loc[row_indexer, \"col\"] = values` instead, to perform the assignment in a single step and ensure this keeps updating the original `df`.\n",
      "\n",
      "See the caveats in the documentation: https://pandas.pydata.org/pandas-docs/stable/user_guide/indexing.html#returning-a-view-versus-a-copy\n",
      "\n",
      "  transition_df[k][j] += 1  # Update k-th column and j-th row for i-th matrix\n"
     ]
    }
   ],
   "source": [
    "growth_means_dict, growth_std_devs_dict, growth_future_dfs_dict = calculate_markovs(\"growth_mar.csv\", 10)"
   ]
  },
  {
   "cell_type": "code",
   "execution_count": 10,
   "metadata": {},
   "outputs": [
    {
     "name": "stderr",
     "output_type": "stream",
     "text": [
      "/Users/rory/Repos/markov_chain_analysis/markov_chains.py:96: FutureWarning: ChainedAssignmentError: behaviour will change in pandas 3.0!\n",
      "You are setting values through chained assignment. Currently this works in certain cases, but when using Copy-on-Write (which will become the default behaviour in pandas 3.0) this will never work to update the original DataFrame or Series, because the intermediate object on which we are setting values will behave as a copy.\n",
      "A typical example is when you are setting values in a column of a DataFrame, like:\n",
      "\n",
      "df[\"col\"][row_indexer] = value\n",
      "\n",
      "Use `df.loc[row_indexer, \"col\"] = values` instead, to perform the assignment in a single step and ensure this keeps updating the original `df`.\n",
      "\n",
      "See the caveats in the documentation: https://pandas.pydata.org/pandas-docs/stable/user_guide/indexing.html#returning-a-view-versus-a-copy\n",
      "\n",
      "  transition_df[k][j] += 1  # Update k-th column and j-th row for i-th matrix\n"
     ]
    }
   ],
   "source": [
    "sonia_means_dict, sonia_std_devs_dict, sonia_future_dfs_dict = calculate_markovs(\"sonia_mar.csv\", 10)"
   ]
  },
  {
   "cell_type": "code",
   "execution_count": 11,
   "metadata": {},
   "outputs": [
    {
     "name": "stderr",
     "output_type": "stream",
     "text": [
      "/Users/rory/Repos/markov_chain_analysis/markov_chains.py:96: FutureWarning: ChainedAssignmentError: behaviour will change in pandas 3.0!\n",
      "You are setting values through chained assignment. Currently this works in certain cases, but when using Copy-on-Write (which will become the default behaviour in pandas 3.0) this will never work to update the original DataFrame or Series, because the intermediate object on which we are setting values will behave as a copy.\n",
      "A typical example is when you are setting values in a column of a DataFrame, like:\n",
      "\n",
      "df[\"col\"][row_indexer] = value\n",
      "\n",
      "Use `df.loc[row_indexer, \"col\"] = values` instead, to perform the assignment in a single step and ensure this keeps updating the original `df`.\n",
      "\n",
      "See the caveats in the documentation: https://pandas.pydata.org/pandas-docs/stable/user_guide/indexing.html#returning-a-view-versus-a-copy\n",
      "\n",
      "  transition_df[k][j] += 1  # Update k-th column and j-th row for i-th matrix\n"
     ]
    }
   ],
   "source": [
    "gap_means_dict, gap_std_devs_dict, gap_future_dfs_dict = calculate_markovs(\"gap_mar.csv\", 10)"
   ]
  },
  {
   "cell_type": "code",
   "execution_count": 15,
   "metadata": {},
   "outputs": [
    {
     "name": "stderr",
     "output_type": "stream",
     "text": [
      "/Users/rory/Repos/markov_chain_analysis/markov_chains.py:96: FutureWarning: ChainedAssignmentError: behaviour will change in pandas 3.0!\n",
      "You are setting values through chained assignment. Currently this works in certain cases, but when using Copy-on-Write (which will become the default behaviour in pandas 3.0) this will never work to update the original DataFrame or Series, because the intermediate object on which we are setting values will behave as a copy.\n",
      "A typical example is when you are setting values in a column of a DataFrame, like:\n",
      "\n",
      "df[\"col\"][row_indexer] = value\n",
      "\n",
      "Use `df.loc[row_indexer, \"col\"] = values` instead, to perform the assignment in a single step and ensure this keeps updating the original `df`.\n",
      "\n",
      "See the caveats in the documentation: https://pandas.pydata.org/pandas-docs/stable/user_guide/indexing.html#returning-a-view-versus-a-copy\n",
      "\n",
      "  transition_df[k][j] += 1  # Update k-th column and j-th row for i-th matrix\n"
     ]
    }
   ],
   "source": [
    "competitors_means_dict, competitors_std_devs_dict, competitors_future_dfs_dict = calculate_markovs(\"competitors_mar.csv\", 10)"
   ]
  }
 ],
 "metadata": {
  "kernelspec": {
   "display_name": "Python 3",
   "language": "python",
   "name": "python3"
  },
  "language_info": {
   "codemirror_mode": {
    "name": "ipython",
    "version": 3
   },
   "file_extension": ".py",
   "mimetype": "text/x-python",
   "name": "python",
   "nbconvert_exporter": "python",
   "pygments_lexer": "ipython3",
   "version": "3.12.2"
  }
 },
 "nbformat": 4,
 "nbformat_minor": 2
}
