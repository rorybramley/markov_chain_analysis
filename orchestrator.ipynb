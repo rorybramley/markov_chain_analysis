{
 "cells": [
  {
   "cell_type": "code",
   "execution_count": 2,
   "metadata": {},
   "outputs": [],
   "source": [
    "# Import functions\n",
    "from markov_chains import *"
   ]
  },
  {
   "cell_type": "code",
   "execution_count": 30,
   "metadata": {},
   "outputs": [],
   "source": [
    "# Set parameters for iterations and starting month\n",
    "num_iterations = 10\n",
    "month = \"dec\""
   ]
  },
  {
   "cell_type": "code",
   "execution_count": 31,
   "metadata": {},
   "outputs": [
    {
     "name": "stderr",
     "output_type": "stream",
     "text": [
      "/Users/rory/Repos/markov_chain_analysis/markov_chains.py:95: FutureWarning: ChainedAssignmentError: behaviour will change in pandas 3.0!\n",
      "You are setting values through chained assignment. Currently this works in certain cases, but when using Copy-on-Write (which will become the default behaviour in pandas 3.0) this will never work to update the original DataFrame or Series, because the intermediate object on which we are setting values will behave as a copy.\n",
      "A typical example is when you are setting values in a column of a DataFrame, like:\n",
      "\n",
      "df[\"col\"][row_indexer] = value\n",
      "\n",
      "Use `df.loc[row_indexer, \"col\"] = values` instead, to perform the assignment in a single step and ensure this keeps updating the original `df`.\n",
      "\n",
      "See the caveats in the documentation: https://pandas.pydata.org/pandas-docs/stable/user_guide/indexing.html#returning-a-view-versus-a-copy\n",
      "\n",
      "  transition_df[k][j] += 1  # Update k-th column and j-th row for i-th matrix\n",
      "/Users/rory/Repos/markov_chain_analysis/markov_chains.py:95: FutureWarning: ChainedAssignmentError: behaviour will change in pandas 3.0!\n",
      "You are setting values through chained assignment. Currently this works in certain cases, but when using Copy-on-Write (which will become the default behaviour in pandas 3.0) this will never work to update the original DataFrame or Series, because the intermediate object on which we are setting values will behave as a copy.\n",
      "A typical example is when you are setting values in a column of a DataFrame, like:\n",
      "\n",
      "df[\"col\"][row_indexer] = value\n",
      "\n",
      "Use `df.loc[row_indexer, \"col\"] = values` instead, to perform the assignment in a single step and ensure this keeps updating the original `df`.\n",
      "\n",
      "See the caveats in the documentation: https://pandas.pydata.org/pandas-docs/stable/user_guide/indexing.html#returning-a-view-versus-a-copy\n",
      "\n",
      "  transition_df[k][j] += 1  # Update k-th column and j-th row for i-th matrix\n",
      "/Users/rory/Repos/markov_chain_analysis/markov_chains.py:95: FutureWarning: ChainedAssignmentError: behaviour will change in pandas 3.0!\n",
      "You are setting values through chained assignment. Currently this works in certain cases, but when using Copy-on-Write (which will become the default behaviour in pandas 3.0) this will never work to update the original DataFrame or Series, because the intermediate object on which we are setting values will behave as a copy.\n",
      "A typical example is when you are setting values in a column of a DataFrame, like:\n",
      "\n",
      "df[\"col\"][row_indexer] = value\n",
      "\n",
      "Use `df.loc[row_indexer, \"col\"] = values` instead, to perform the assignment in a single step and ensure this keeps updating the original `df`.\n",
      "\n",
      "See the caveats in the documentation: https://pandas.pydata.org/pandas-docs/stable/user_guide/indexing.html#returning-a-view-versus-a-copy\n",
      "\n",
      "  transition_df[k][j] += 1  # Update k-th column and j-th row for i-th matrix\n"
     ]
    }
   ],
   "source": [
    "# Run Markovs\n",
    "recruitment_means_list, recruitment_std_devs_list, recruitment_future_dfs_dict = calculate_markovs(f\"./recruitment_{month}.csv\", num_iterations)\n",
    "uncertainty_means_list, uncertainty_std_devs_list, uncertainty_future_dfs_dict = calculate_markovs(f\"./uncertainty_{month}.csv\", num_iterations)\n",
    "employment_growth_means_list, employment_growth_std_devs_list, employment_growth_future_dfs_dict = calculate_markovs(f\"./employment_growth_{month}.csv\", num_iterations)"
   ]
  },
  {
   "cell_type": "code",
   "execution_count": 42,
   "metadata": {},
   "outputs": [
    {
     "data": {
      "text/plain": [
       "[         up      down\n",
       " 0  0.571429  0.428571,\n",
       "          up      down\n",
       " 0  0.599258  0.400742,\n",
       "          up      down\n",
       " 0  0.597451  0.402549,\n",
       "          up      down\n",
       " 0  0.597568  0.402432,\n",
       "          up      down\n",
       " 0  0.597561  0.402439,\n",
       "          up      down\n",
       " 0  0.597561  0.402439,\n",
       "          up      down\n",
       " 0  0.597561  0.402439,\n",
       "          up      down\n",
       " 0  0.597561  0.402439,\n",
       "          up      down\n",
       " 0  0.597561  0.402439,\n",
       "          up      down\n",
       " 0  0.597561  0.402439]"
      ]
     },
     "execution_count": 42,
     "metadata": {},
     "output_type": "execute_result"
    }
   ],
   "source": [
    "# Examples\n",
    "\n",
    "recruitment_future_dfs_dict[\"about_normal\"]"
   ]
  },
  {
   "cell_type": "code",
   "execution_count": 47,
   "metadata": {},
   "outputs": [
    {
     "name": "stdout",
     "output_type": "stream",
     "text": [
      "['very_low', 'low', 'medium', 'high', 'very_high'] \n",
      " [         up      down\n",
      "0  0.505051  0.494949,          up      down\n",
      "0  0.507414  0.492586,          up      down\n",
      "0  0.555556  0.444444,          up      down\n",
      "0  0.516127  0.483873,          up      down\n",
      "0  0.444444  0.555556]\n"
     ]
    }
   ],
   "source": [
    "uncertainty_columns = list(uncertainty_future_dfs_dict.keys())\n",
    "uncertainty_final_step_dfs = [uncertainty_df[-1] for uncertainty_df in uncertainty_future_dfs_dict.values()]\n",
    "print(uncertainty_columns, \"\\n\", uncertainty_final_step_dfs)"
   ]
  },
  {
   "cell_type": "code",
   "execution_count": null,
   "metadata": {},
   "outputs": [],
   "source": []
  }
 ],
 "metadata": {
  "kernelspec": {
   "display_name": "Python 3",
   "language": "python",
   "name": "python3"
  },
  "language_info": {
   "codemirror_mode": {
    "name": "ipython",
    "version": 3
   },
   "file_extension": ".py",
   "mimetype": "text/x-python",
   "name": "python",
   "nbconvert_exporter": "python",
   "pygments_lexer": "ipython3",
   "version": "3.11.7"
  }
 },
 "nbformat": 4,
 "nbformat_minor": 2
}
